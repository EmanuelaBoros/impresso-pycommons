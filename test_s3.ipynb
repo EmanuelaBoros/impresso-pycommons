{
 "cells": [
  {
   "cell_type": "code",
   "execution_count": 11,
   "metadata": {},
   "outputs": [],
   "source": [
    "import os\n",
    "import boto3"
   ]
  },
  {
   "cell_type": "code",
   "execution_count": 12,
   "metadata": {},
   "outputs": [
    {
     "name": "stdout",
     "output_type": "stream",
     "text": [
      "dict_keys(['ResponseMetadata', 'IsTruncated', 'Contents', 'Name', 'Prefix', 'MaxKeys'])\n",
      "1000\n"
     ]
    }
   ],
   "source": [
    "keys = [] \n",
    "iter_items = _list_bucket(\"canonical-rebuilt-versioned\", prefix=\"GDL/1950\", accept_key=lambda key: key.endswith('.json'))\n",
    "for k in iter_items:\n",
    "    keys.append(k)\n",
    "print(len(keys)) "
   ]
  },
  {
   "cell_type": "code",
   "execution_count": 13,
   "metadata": {},
   "outputs": [
    {
     "name": "stdout",
     "output_type": "stream",
     "text": [
      "4506\n"
     ]
    }
   ],
   "source": [
    "keys = [] \n",
    "iter_items= _list_bucket_paginator(\"canonical-rebuilt-versioned\", prefix=\"GDL/1950\", accept_key=lambda key: key.endswith('.json'))\n",
    "print(len(iter_items)) "
   ]
  },
  {
   "cell_type": "code",
   "execution_count": 14,
   "metadata": {},
   "outputs": [],
   "source": [
    "def _list_bucket(bucket_name, prefix='', accept_key=lambda k: True):\n",
    "    client = get_s3_client()\n",
    "    ctoken = None\n",
    "\n",
    "    while True:\n",
    "        response = client.list_objects_v2(Bucket=bucket_name, Prefix=prefix)\n",
    "        try:\n",
    "            content = response['Contents']\n",
    "            print(response.keys())\n",
    "            #print(response.get('NextContinuationToken', None))\n",
    "        except KeyError:\n",
    "            pass\n",
    "        else:\n",
    "            for c in content:\n",
    "                key = c['Key']\n",
    "                if accept_key(key):\n",
    "                    yield key\n",
    "        ctoken = response.get('NextContinuationToken', None)\n",
    "        if not ctoken:\n",
    "            break"
   ]
  },
  {
   "cell_type": "code",
   "execution_count": 15,
   "metadata": {},
   "outputs": [],
   "source": [
    "def _list_bucket_paginator(bucket_name, prefix='', accept_key=lambda k: True):\n",
    "    client = get_s3_client()\n",
    "    paginator = client.get_paginator(\"list_objects\")\n",
    "    page_iterator = paginator.paginate(Bucket=bucket_name, Prefix=prefix)\n",
    "    keys = []\n",
    "    for page in page_iterator:\n",
    "        if \"Contents\" in page:\n",
    "            for key in page[\"Contents\"]:\n",
    "                keyString = key[\"Key\"]\n",
    "                #yield key\n",
    "                keys.append(keyString)\n",
    "    return keys if keys else []"
   ]
  },
  {
   "cell_type": "code",
   "execution_count": 16,
   "metadata": {},
   "outputs": [],
   "source": [
    "def get_s3_client(host_url='https://os.zhdk.cloud.switch.ch/'):\n",
    "    if host_url is None:\n",
    "        try:\n",
    "            host_url = os.environ[\"SE_HOST_URL\"]\n",
    "        except Exception:\n",
    "            raise\n",
    "\n",
    "    try:\n",
    "        access_key = os.environ[\"SE_ACCESS_KEY\"]\n",
    "    except Exception:\n",
    "        raise\n",
    "\n",
    "    try:\n",
    "        secret_key = os.environ[\"SE_SECRET_KEY\"]\n",
    "    except Exception:\n",
    "        raise\n",
    "\n",
    "    return boto3.client(\n",
    "        's3',\n",
    "        aws_secret_access_key=secret_key,\n",
    "        aws_access_key_id=access_key,\n",
    "        endpoint_url=host_url\n",
    "    )"
   ]
  }
 ],
 "metadata": {
  "kernelspec": {
   "display_name": "Python 3",
   "language": "python",
   "name": "python3"
  },
  "language_info": {
   "codemirror_mode": {
    "name": "ipython",
    "version": 3
   },
   "file_extension": ".py",
   "mimetype": "text/x-python",
   "name": "python",
   "nbconvert_exporter": "python",
   "pygments_lexer": "ipython3",
   "version": "3.6.0"
  }
 },
 "nbformat": 4,
 "nbformat_minor": 2
}
