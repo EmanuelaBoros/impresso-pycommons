{
 "cells": [
  {
   "cell_type": "code",
   "execution_count": 1,
   "metadata": {},
   "outputs": [],
   "source": [
    "import pdb\n",
    "import json\n",
    "import sys\n",
    "import smart_open\n",
    "from datetime import date"
   ]
  },
  {
   "cell_type": "code",
   "execution_count": 2,
   "metadata": {},
   "outputs": [],
   "source": [
    "from impresso_commons.path import IssueDir, detect_issues\n",
    "from smart_open import s3_iter_bucket\n",
    "from impresso_commons.utils.s3 import get_s3_connection"
   ]
  },
  {
   "cell_type": "code",
   "execution_count": 3,
   "metadata": {},
   "outputs": [],
   "source": [
    "from impresso_commons.path import s3_detect_issues"
   ]
  },
  {
   "cell_type": "code",
   "execution_count": 4,
   "metadata": {},
   "outputs": [],
   "source": [
    "from itertools import starmap\n",
    "from functools import reduce"
   ]
  },
  {
   "cell_type": "code",
   "execution_count": 5,
   "metadata": {},
   "outputs": [],
   "source": [
    "# issues = detect_issues('/home/romanell/canonical-json/', journal_filter=[\"GDL\", \"IMP\"])"
   ]
  },
  {
   "cell_type": "code",
   "execution_count": 5,
   "metadata": {
    "scrolled": true
   },
   "outputs": [],
   "source": [
    "conn = get_s3_connection()"
   ]
  },
  {
   "cell_type": "code",
   "execution_count": 6,
   "metadata": {},
   "outputs": [],
   "source": [
    "bucket = [b for b in conn.get_all_buckets() if b.name==\"canonical-json\"][0]"
   ]
  },
  {
   "cell_type": "code",
   "execution_count": 7,
   "metadata": {},
   "outputs": [
    {
     "data": {
      "text/plain": [
       "<Bucket: canonical-json>"
      ]
     },
     "execution_count": 7,
     "metadata": {},
     "output_type": "execute_result"
    }
   ],
   "source": [
    "bucket"
   ]
  },
  {
   "cell_type": "code",
   "execution_count": null,
   "metadata": {},
   "outputs": [],
   "source": [
    "def get_articles(issue, base_dir):\n",
    "    pass"
   ]
  },
  {
   "cell_type": "code",
   "execution_count": 9,
   "metadata": {},
   "outputs": [
    {
     "name": "stdout",
     "output_type": "stream",
     "text": [
      "total 4\r\n",
      "drwxr-xr-x 2 romanell 4096 Apr 20 06:56 \u001b[0m\u001b[01;34ma\u001b[0m/\r\n"
     ]
    }
   ],
   "source": [
    "ll {issues[0].path}"
   ]
  },
  {
   "cell_type": "code",
   "execution_count": 8,
   "metadata": {},
   "outputs": [],
   "source": [
    "def s3_get_articles(issue, bucket):\n",
    "    \"\"\"\n",
    "    Read an issue from S3 and return the list of articles it contains.\n",
    "    \n",
    "    NB: Content items with type = \"ad\" (advertisement) are filtered out.\n",
    "    \n",
    "    \"\"\"\n",
    "    issue_data = list(s3_iter_bucket(bucket, prefix=issue.path))[0][1]\n",
    "    issue_json = json.loads(issue_data.decode('utf-8'))\n",
    "    articles = [\n",
    "        item\n",
    "        for item in issue_json[\"i\"]\n",
    "        if item[\"m\"][\"tp\"]==\"article\"]\n",
    "    return articles"
   ]
  },
  {
   "cell_type": "code",
   "execution_count": 9,
   "metadata": {},
   "outputs": [],
   "source": [
    "def serialize_article(article_text, article_metadata, out_dir=None, s3_bucket_id=None):\n",
    "    pass"
   ]
  },
  {
   "cell_type": "code",
   "execution_count": 10,
   "metadata": {},
   "outputs": [
    {
     "name": "stdout",
     "output_type": "stream",
     "text": [
      "CPU times: user 153 ms, sys: 116 ms, total: 270 ms\n",
      "Wall time: 3.38 s\n"
     ]
    }
   ],
   "source": [
    "%%time\n",
    "issues = s3_detect_issues(bucket, prefix=\"IMP/1990\")"
   ]
  },
  {
   "cell_type": "code",
   "execution_count": 11,
   "metadata": {},
   "outputs": [
    {
     "data": {
      "text/plain": [
       "23"
      ]
     },
     "execution_count": 11,
     "metadata": {},
     "output_type": "execute_result"
    }
   ],
   "source": [
    "len(issues)"
   ]
  },
  {
   "cell_type": "code",
   "execution_count": 12,
   "metadata": {},
   "outputs": [
    {
     "data": {
      "text/plain": [
       "IssueDirectory(journal='IMP', date=datetime.date(1990, 3, 15), edition='a', path='IMP/1990/03/15/a/IMP-1990-03-15-a-issue.json')"
      ]
     },
     "execution_count": 12,
     "metadata": {},
     "output_type": "execute_result"
    }
   ],
   "source": [
    "issues[0]"
   ]
  },
  {
   "cell_type": "code",
   "execution_count": 13,
   "metadata": {},
   "outputs": [],
   "source": [
    "articles_by_issue = starmap(\n",
    "        s3_get_articles,\n",
    "        [\n",
    "            (issue, bucket)\n",
    "            for issue in issues\n",
    "        ]\n",
    ")"
   ]
  },
  {
   "cell_type": "code",
   "execution_count": 14,
   "metadata": {},
   "outputs": [],
   "source": [
    "all_articles = reduce(lambda x, y: x + y, articles_by_issue)"
   ]
  },
  {
   "cell_type": "code",
   "execution_count": 15,
   "metadata": {},
   "outputs": [
    {
     "data": {
      "text/plain": [
       "3867"
      ]
     },
     "execution_count": 15,
     "metadata": {},
     "output_type": "execute_result"
    }
   ],
   "source": [
    "len(all_articles)"
   ]
  },
  {
   "cell_type": "code",
   "execution_count": 28,
   "metadata": {},
   "outputs": [],
   "source": [
    "# all_articles[:100]"
   ]
  },
  {
   "cell_type": "code",
   "execution_count": 34,
   "metadata": {},
   "outputs": [],
   "source": [
    "rebuilt_articles = [\n",
    "    rebuild_article(article, bucket_id='canonical-json')\n",
    "    for article in all_articles\n",
    "]"
   ]
  },
  {
   "cell_type": "code",
   "execution_count": null,
   "metadata": {},
   "outputs": [],
   "source": [
    "serialization_result = [\n",
    "    serialize_article(metadata, fulltext, out_dir=\"\")\n",
    "    for metadata, fulltext in zip(all_articles, rebuilt_articles)\n",
    "]"
   ]
  },
  {
   "cell_type": "markdown",
   "metadata": {},
   "source": [
    "## DEV"
   ]
  },
  {
   "cell_type": "code",
   "execution_count": 16,
   "metadata": {},
   "outputs": [],
   "source": [
    "from impresso_commons.path import get_issueshortpath"
   ]
  },
  {
   "cell_type": "code",
   "execution_count": 17,
   "metadata": {},
   "outputs": [],
   "source": [
    "def s3_get_pages(issue_id, page_names, bucket):\n",
    "    return {\n",
    "        key.name.split('/')[-1]: json.loads(content.decode('utf-8'))\n",
    "        for key, content in s3_iter_bucket(bucket, prefix=issue_id.replace('-', '/'))\n",
    "        if key.name.split('/')[-1] in list(page_names.values())\n",
    "    }"
   ]
  },
  {
   "cell_type": "code",
   "execution_count": 18,
   "metadata": {},
   "outputs": [],
   "source": [
    "def rebuild_text(tokens, string=None):\n",
    "    \"\"\"    \n",
    "    TODO: handle better the space insertion\n",
    "    \"\"\"\n",
    "    \n",
    "    def get_space(token):\n",
    "        return \" \"\n",
    "    \n",
    "    regions = []\n",
    "    \n",
    "    if string is None:\n",
    "        string = \"\"\n",
    "    \n",
    "    for token in tokens:\n",
    "        region = {}\n",
    "        region[\"coords\"] = token[\"c\"]\n",
    "        region[\"start\"] = len(string)\n",
    "        region[\"length\"] = len(token[\"tx\"])\n",
    "        string += \"{} \".format(token[\"tx\"])\n",
    "        regions.append(region)\n",
    "        \n",
    "    return (string, regions)\n",
    "        \n",
    "    \n",
    "    "
   ]
  },
  {
   "cell_type": "code",
   "execution_count": 37,
   "metadata": {},
   "outputs": [],
   "source": [
    "# TODO: implement\n",
    "import datetime\n",
    "def rebuild_article(article_metadata, bucket_id):\n",
    "    \"\"\"\n",
    "    Logic:\n",
    "    - for each page in ['m']['pp'], fetch the JSON pages from S3\n",
    "    - for each page, filter the regions where occurs the article ID\n",
    "    - pass the list of regions to `rebuild_text()`\n",
    "    \n",
    "    Returns a single string with the article's fulltext.\n",
    "    \"\"\"\n",
    "    article_id = article_metadata[\"m\"][\"id\"]\n",
    "    issue_id = \"-\".join(article_id.split('-')[:-1])\n",
    "    page_file_names = {\n",
    "        p: \"{}-p{}.json\".format(issue_id, str(p).zfill(4))\n",
    "        for p in article_metadata[\"m\"][\"pp\"]\n",
    "    }\n",
    "    pages = s3_get_pages(issue_id, page_file_names, bucket)\n",
    "    year, month, day = article_id.split('-')[1:4]\n",
    "    d = datetime.datetime(int(year), int(month), int(day), 5, 0, 0)\n",
    "    \n",
    "    fulltext = \"\"\n",
    "    article = {\n",
    "        \"id\": article_id,\n",
    "        # \"series\": None,\n",
    "        \"pages\": [],\n",
    "        \"datetime\": d.isoformat() + 'Z',\n",
    "        \"title\": article_metadata[\"m\"][\"t\"],\n",
    "        \"lang\": article_metadata[\"m\"][\"l\"],\n",
    "        \"journal\": article_metadata[\"m\"][\"pub\"],\n",
    "    }\n",
    "    \n",
    "    for page_no in page_file_names:\n",
    "        page = pages[page_file_names[page_no]]\n",
    "        regions = [\n",
    "            region\n",
    "            for region in page[\"r\"]\n",
    "            if region[\"pOf\"] == article_id\n",
    "        ]\n",
    "        tokens = [\n",
    "            token\n",
    "            for region in regions\n",
    "            for para in region[\"p\"]\n",
    "            for line in para[\"l\"]\n",
    "            for token in line[\"t\"]\n",
    "            # TODO: handle better hyphenated words\n",
    "        ]\n",
    "        \n",
    "        if fulltext == \"\":\n",
    "            fulltext, regions = rebuild_text(tokens)\n",
    "        else:\n",
    "            fulltext, regions = rebuild_text(tokens, fulltext)\n",
    "            \n",
    "        page_doc = {\n",
    "            \"id\": page_file_names[page_no],\n",
    "            \"n\": page_no,\n",
    "            \"regions\": regions\n",
    "        }\n",
    "        article[\"pages\"].append(page_doc)\n",
    "    \n",
    "    article[\"text\"] = fulltext\n",
    "        \n",
    "    return article"
   ]
  },
  {
   "cell_type": "code",
   "execution_count": 38,
   "metadata": {},
   "outputs": [
    {
     "data": {
      "text/plain": [
       "{'l': {'id': 'Ar00104', 'source': '113-IMP-1990-03-15-0001.pdf'},\n",
       " 'm': {'id': 'IMP-1990-03-15-a-i0001',\n",
       "  'l': 'french',\n",
       "  'pp': [1],\n",
       "  'pub': 'IMP',\n",
       "  't': \"' mff\",\n",
       "  'tp': 'article'}}"
      ]
     },
     "execution_count": 38,
     "metadata": {},
     "output_type": "execute_result"
    }
   ],
   "source": [
    "all_articles[0]"
   ]
  },
  {
   "cell_type": "code",
   "execution_count": 39,
   "metadata": {},
   "outputs": [
    {
     "data": {
      "text/plain": [
       "['1990', '03', '15']"
      ]
     },
     "execution_count": 39,
     "metadata": {},
     "output_type": "execute_result"
    }
   ],
   "source": [
    "article_id = \"IMP-1990-03-15-a-i0001\"\n",
    "article_id.split('-')[1:4]"
   ]
  },
  {
   "cell_type": "code",
   "execution_count": 40,
   "metadata": {},
   "outputs": [],
   "source": [
    "article = all_articles[0]\n",
    "rebuilt_article = rebuild_article(article, bucket)"
   ]
  },
  {
   "cell_type": "code",
   "execution_count": 41,
   "metadata": {},
   "outputs": [
    {
     "data": {
      "text/plain": [
       "'part'"
      ]
     },
     "execution_count": 41,
     "metadata": {},
     "output_type": "execute_result"
    }
   ],
   "source": [
    "rebuilt_article[\"text\"][22:26]"
   ]
  },
  {
   "cell_type": "code",
   "execution_count": 42,
   "metadata": {},
   "outputs": [
    {
     "data": {
      "text/plain": [
       "{'datetime': '1990-03-15T05:00:00Z',\n",
       " 'id': 'IMP-1990-03-15-a-i0001',\n",
       " 'journal': 'IMP',\n",
       " 'lang': 'french',\n",
       " 'pages': [{'id': 'IMP-1990-03-15-a-p0001.json',\n",
       "   'n': 1,\n",
       "   'regions': [{'coords': [98, 217, 100, 236], 'length': 1, 'start': 0},\n",
       "    {'coords': [98, 215, 111, 234], 'length': 3, 'start': 2},\n",
       "    {'coords': [89, 538, 183, 564], 'length': 11, 'start': 6},\n",
       "    {'coords': [183, 538, 188, 564], 'length': 1, 'start': 18},\n",
       "    {'coords': [194, 538, 203, 564], 'length': 1, 'start': 20},\n",
       "    {'coords': [209, 538, 240, 564], 'length': 4, 'start': 22},\n",
       "    {'coords': [248, 538, 274, 564], 'length': 3, 'start': 27},\n",
       "    {'coords': [279, 538, 333, 564], 'length': 6, 'start': 31},\n",
       "    {'coords': [89, 557, 157, 583], 'length': 9, 'start': 38},\n",
       "    {'coords': [167, 557, 180, 583], 'length': 2, 'start': 48},\n",
       "    {'coords': [188, 557, 233, 583], 'length': 5, 'start': 51},\n",
       "    {'coords': [244, 557, 257, 583], 'length': 2, 'start': 57},\n",
       "    {'coords': [265, 557, 299, 583], 'length': 4, 'start': 60},\n",
       "    {'coords': [308, 556, 334, 583], 'length': 3, 'start': 65},\n",
       "    {'coords': [89, 576, 134, 603], 'length': 5, 'start': 69},\n",
       "    {'coords': [135, 575, 140, 601], 'length': 1, 'start': 75},\n",
       "    {'coords': [146, 576, 158, 603], 'length': 2, 'start': 77},\n",
       "    {'coords': [164, 576, 211, 603], 'length': 5, 'start': 80},\n",
       "    {'coords': [217, 576, 249, 603], 'length': 4, 'start': 86},\n",
       "    {'coords': [255, 576, 273, 603], 'length': 2, 'start': 91},\n",
       "    {'coords': [279, 576, 333, 603], 'length': 6, 'start': 94},\n",
       "    {'coords': [89, 596, 134, 622], 'length': 6, 'start': 101},\n",
       "    {'coords': [142, 596, 215, 622], 'length': 10, 'start': 108},\n",
       "    {'coords': [215, 596, 219, 622], 'length': 1, 'start': 119},\n",
       "    {'coords': [351, 536, 413, 562], 'length': 6, 'start': 121},\n",
       "    {'coords': [413, 536, 418, 562], 'length': 1, 'start': 128},\n",
       "    {'coords': [420, 536, 479, 561], 'length': 7, 'start': 130},\n",
       "    {'coords': [485, 536, 524, 562], 'length': 5, 'start': 138},\n",
       "    {'coords': [527, 535, 532, 561], 'length': 1, 'start': 144},\n",
       "    {'coords': [536, 535, 594, 561], 'length': 7, 'start': 146},\n",
       "    {'coords': [351, 555, 403, 582], 'length': 6, 'start': 154},\n",
       "    {'coords': [410, 555, 482, 582], 'length': 10, 'start': 161},\n",
       "    {'coords': [489, 555, 503, 582], 'length': 2, 'start': 172},\n",
       "    {'coords': [509, 555, 557, 582], 'length': 5, 'start': 175},\n",
       "    {'coords': [557, 555, 562, 582], 'length': 1, 'start': 181},\n",
       "    {'coords': [569, 555, 593, 582], 'length': 2, 'start': 183},\n",
       "    {'coords': [350, 575, 377, 601], 'length': 3, 'start': 186},\n",
       "    {'coords': [388, 575, 408, 601], 'length': 2, 'start': 190},\n",
       "    {'coords': [419, 575, 468, 601], 'length': 6, 'start': 193},\n",
       "    {'coords': [469, 575, 475, 601], 'length': 1, 'start': 200},\n",
       "    {'coords': [484, 575, 509, 601], 'length': 3, 'start': 202},\n",
       "    {'coords': [521, 575, 594, 601], 'length': 7, 'start': 206},\n",
       "    {'coords': [351, 595, 417, 621], 'length': 7, 'start': 214},\n",
       "    {'coords': [417, 595, 422, 621], 'length': 1, 'start': 222},\n",
       "    {'coords': [100, 629, 118, 650], 'length': 3, 'start': 224},\n",
       "    {'coords': [124, 629, 142, 650], 'length': 3, 'start': 228},\n",
       "    {'coords': [148, 629, 187, 650], 'length': 7, 'start': 232},\n",
       "    {'coords': [208, 635, 218, 657], 'length': 2, 'start': 240},\n",
       "    {'coords': [213, 635, 245, 657], 'length': 2, 'start': 243},\n",
       "    {'coords': [246, 635, 333, 657], 'length': 7, 'start': 246},\n",
       "    {'coords': [372, 633, 385, 655], 'length': 1, 'start': 254},\n",
       "    {'coords': [385, 633, 392, 655], 'length': 1, 'start': 256},\n",
       "    {'coords': [391, 633, 396, 655], 'length': 1, 'start': 258},\n",
       "    {'coords': [396, 633, 399, 655], 'length': 1, 'start': 260},\n",
       "    {'coords': [417, 636, 426, 657], 'length': 1, 'start': 262},\n",
       "    {'coords': [424, 636, 437, 657], 'length': 2, 'start': 264},\n",
       "    {'coords': [436, 636, 459, 657], 'length': 2, 'start': 267},\n",
       "    {'coords': [469, 631, 509, 653], 'length': 5, 'start': 270},\n",
       "    {'coords': [526, 631, 588, 653], 'length': 7, 'start': 276},\n",
       "    {'coords': [96, 652, 99, 682], 'length': 1, 'start': 284},\n",
       "    {'coords': [107, 643, 137, 671], 'length': 3, 'start': 286},\n",
       "    {'coords': [137, 652, 146, 682], 'length': 1, 'start': 290},\n",
       "    {'coords': [167, 648, 185, 679], 'length': 1, 'start': 292},\n",
       "    {'coords': [192, 652, 195, 682], 'length': 1, 'start': 294},\n",
       "    {'coords': [208, 651, 264, 681], 'length': 2, 'start': 296},\n",
       "    {'coords': [257, 651, 319, 681], 'length': 2, 'start': 299},\n",
       "    {'coords': [324, 651, 362, 681], 'length': 2, 'start': 302},\n",
       "    {'coords': [358, 651, 405, 681], 'length': 2, 'start': 305},\n",
       "    {'coords': [-49, 662, 416, 692], 'length': 2, 'start': 308},\n",
       "    {'coords': [471, 650, 480, 680], 'length': 1, 'start': 311},\n",
       "    {'coords': [485, 650, 495, 680], 'length': 1, 'start': 313},\n",
       "    {'coords': [499, 650, 516, 680], 'length': 2, 'start': 315},\n",
       "    {'coords': [530, 650, 547, 680], 'length': 2, 'start': 318},\n",
       "    {'coords': [553, 650, 563, 680], 'length': 1, 'start': 321},\n",
       "    {'coords': [568, 650, 585, 680], 'length': 2, 'start': 323},\n",
       "    {'coords': [107, 681, 137, 705], 'length': 3, 'start': 326},\n",
       "    {'coords': [137, 681, 142, 705], 'length': 1, 'start': 330},\n",
       "    {'coords': [142, 680, 162, 704], 'length': 2, 'start': 332},\n",
       "    {'coords': [168, 680, 184, 704], 'length': 1, 'start': 335},\n",
       "    {'coords': [220, 680, 239, 704], 'length': 2, 'start': 337},\n",
       "    {'coords': [239, 680, 246, 704], 'length': 1, 'start': 340},\n",
       "    {'coords': [266, 680, 270, 704], 'length': 1, 'start': 342},\n",
       "    {'coords': [286, 680, 295, 704], 'length': 1, 'start': 344},\n",
       "    {'coords': [295, 680, 301, 704], 'length': 1, 'start': 346},\n",
       "    {'coords': [322, 680, 326, 704], 'length': 1, 'start': 348},\n",
       "    {'coords': [336, 680, 355, 704], 'length': 2, 'start': 350},\n",
       "    {'coords': [354, 680, 378, 709], 'length': 2, 'start': 353},\n",
       "    {'coords': [381, 682, 398, 706], 'length': 2, 'start': 356},\n",
       "    {'coords': [410, 684, 431, 710], 'length': 2, 'start': 359},\n",
       "    {'coords': [429, 668, 461, 710], 'length': 3, 'start': 362},\n",
       "    {'coords': [462, 679, 480, 703], 'length': 2, 'start': 366},\n",
       "    {'coords': [485, 679, 495, 704], 'length': 1, 'start': 369},\n",
       "    {'coords': [499, 679, 517, 703], 'length': 2, 'start': 371},\n",
       "    {'coords': [539, 679, 549, 703], 'length': 1, 'start': 374},\n",
       "    {'coords': [553, 679, 564, 703], 'length': 1, 'start': 376},\n",
       "    {'coords': [567, 679, 585, 703], 'length': 2, 'start': 378},\n",
       "    {'coords': [195, 704, 228, 728], 'length': 4, 'start': 381},\n",
       "    {'coords': [233, 704, 242, 728], 'length': 1, 'start': 386},\n",
       "    {'coords': [247, 704, 318, 728], 'length': 9, 'start': 388},\n",
       "    {'coords': [323, 704, 362, 728], 'length': 5, 'start': 398},\n",
       "    {'coords': [367, 704, 385, 728], 'length': 2, 'start': 404},\n",
       "    {'coords': [390, 704, 428, 728], 'length': 4, 'start': 407},\n",
       "    {'coords': [428, 704, 433, 728], 'length': 1, 'start': 412},\n",
       "    {'coords': [439, 703, 489, 727], 'length': 6, 'start': 414}]}],\n",
       " 'text': '\\' mff Aujourd\\'hui : à part des nuages résiduels le matin le long des Alpes , le temps sera en grande partie ensoleillé . Demain : jusqu\\'à lundi , généra- lement ensoleillé et chaud . Au sud du Tessin , par moments nuageux . Lac des Brenets _i ^^ _iJKTSI y \\\\ \" | - _^ é- Lever Coucher . 750 : ™ . ^^ JM ^/ Jk || 6 h 45 18 h 38 429 . 22 m 13 ° | 2 ° [ 25 P\" _™ |~ _JB 23 h 23 7 h 49 Fête à souhaiter jeudi 15 mars : Louise ',\n",
       " 'title': \"' mff\"}"
      ]
     },
     "execution_count": 42,
     "metadata": {},
     "output_type": "execute_result"
    }
   ],
   "source": [
    "rebuilt_article"
   ]
  },
  {
   "cell_type": "code",
   "execution_count": 98,
   "metadata": {},
   "outputs": [
    {
     "data": {
      "text/plain": [
       "\"Aujourd'hui : en partie ensoleu- Demain : encore en partie enso- lé avec des bancs de brouillard leillé et doux . Le soir quelques le matin sur le Plateau et des précipitations à partir de passages nuageux sur l ' ouest , l ' ouest . Lac des Brenels ' _vVV /> _Bj _^ _^ il // Lever Coucher _™ _SJL _, MEJ /| H 7 h 49 17 h 43 428 . 97 m | 10 ° ~ 1 ° | 2000 m _[ r _^ 15 h 02 6 h 36 Fête à souhaiter mercredi 7 février : Hélène \""
      ]
     },
     "execution_count": 98,
     "metadata": {},
     "output_type": "execute_result"
    }
   ],
   "source": [
    "rebuilt_article[\"text\"]"
   ]
  },
  {
   "cell_type": "code",
   "execution_count": 97,
   "metadata": {},
   "outputs": [
    {
     "data": {
      "text/plain": [
       "'quelques'"
      ]
     },
     "execution_count": 97,
     "metadata": {},
     "output_type": "execute_result"
    }
   ],
   "source": [
    "rebuilt_article[\"text\"][122:130]"
   ]
  },
  {
   "cell_type": "code",
   "execution_count": null,
   "metadata": {},
   "outputs": [],
   "source": []
  }
 ],
 "metadata": {
  "kernelspec": {
   "display_name": "Python 3",
   "language": "python",
   "name": "python3"
  },
  "language_info": {
   "codemirror_mode": {
    "name": "ipython",
    "version": 3
   },
   "file_extension": ".py",
   "mimetype": "text/x-python",
   "name": "python",
   "nbconvert_exporter": "python",
   "pygments_lexer": "ipython3",
   "version": "3.5.0"
  },
  "toc": {
   "colors": {
    "hover_highlight": "#DAA520",
    "navigate_num": "#000000",
    "navigate_text": "#333333",
    "running_highlight": "#FF0000",
    "selected_highlight": "#FFD700",
    "sidebar_border": "#EEEEEE",
    "wrapper_background": "#FFFFFF"
   },
   "moveMenuLeft": true,
   "nav_menu": {
    "height": "12px",
    "width": "252px"
   },
   "navigate_menu": true,
   "number_sections": true,
   "sideBar": true,
   "threshold": 4,
   "toc_cell": false,
   "toc_section_display": "block",
   "toc_window_display": false,
   "widenNotebook": false
  }
 },
 "nbformat": 4,
 "nbformat_minor": 2
}
