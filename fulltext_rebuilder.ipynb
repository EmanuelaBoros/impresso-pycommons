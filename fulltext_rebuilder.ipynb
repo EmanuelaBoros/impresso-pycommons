{
 "cells": [
  {
   "cell_type": "code",
   "execution_count": 1,
   "metadata": {},
   "outputs": [],
   "source": [
    "import pdb\n",
    "import json\n",
    "import sys\n",
    "import smart_open\n",
    "from datetime import date"
   ]
  },
  {
   "cell_type": "code",
   "execution_count": 2,
   "metadata": {},
   "outputs": [],
   "source": [
    "from impresso_commons.path import IssueDir, detect_issues\n",
    "from smart_open import s3_iter_bucket\n",
    "from impresso_commons.utils.s3 import get_s3_connection"
   ]
  },
  {
   "cell_type": "code",
   "execution_count": 3,
   "metadata": {},
   "outputs": [],
   "source": [
    "from impresso_commons.path import s3_detect_issues"
   ]
  },
  {
   "cell_type": "code",
   "execution_count": 4,
   "metadata": {},
   "outputs": [],
   "source": [
    "from itertools import starmap\n",
    "from functools import reduce"
   ]
  },
  {
   "cell_type": "code",
   "execution_count": 5,
   "metadata": {},
   "outputs": [],
   "source": [
    "# issues = detect_issues('/home/romanell/canonical-json/', journal_filter=[\"GDL\", \"IMP\"])"
   ]
  },
  {
   "cell_type": "code",
   "execution_count": 6,
   "metadata": {
    "scrolled": true
   },
   "outputs": [],
   "source": [
    "conn = get_s3_connection()"
   ]
  },
  {
   "cell_type": "code",
   "execution_count": 7,
   "metadata": {},
   "outputs": [],
   "source": [
    "bucket = [b for b in conn.get_all_buckets() if b.name==\"canonical-json\"][0]"
   ]
  },
  {
   "cell_type": "code",
   "execution_count": 7,
   "metadata": {},
   "outputs": [
    {
     "data": {
      "text/plain": [
       "<Bucket: canonical-json>"
      ]
     },
     "execution_count": 7,
     "metadata": {},
     "output_type": "execute_result"
    }
   ],
   "source": [
    "bucket"
   ]
  },
  {
   "cell_type": "code",
   "execution_count": null,
   "metadata": {},
   "outputs": [],
   "source": [
    "def get_articles(issue, base_dir):\n",
    "    pass"
   ]
  },
  {
   "cell_type": "code",
   "execution_count": 9,
   "metadata": {},
   "outputs": [
    {
     "name": "stdout",
     "output_type": "stream",
     "text": [
      "total 4\r\n",
      "drwxr-xr-x 2 romanell 4096 Apr 20 06:56 \u001b[0m\u001b[01;34ma\u001b[0m/\r\n"
     ]
    }
   ],
   "source": [
    "ll {issues[0].path}"
   ]
  },
  {
   "cell_type": "code",
   "execution_count": 8,
   "metadata": {},
   "outputs": [],
   "source": [
    "def s3_get_articles(issue, bucket):\n",
    "    \"\"\"\n",
    "    Read an issue from S3 and return the list of articles it contains.\n",
    "    \n",
    "    NB: Content items with type = \"ad\" (advertisement) are filtered out.\n",
    "    \n",
    "    \"\"\"\n",
    "    issue_data = list(s3_iter_bucket(bucket, prefix=issue.path))[0][1]\n",
    "    issue_json = json.loads(issue_data.decode('utf-8'))\n",
    "    articles = [\n",
    "        item\n",
    "        for item in issue_json[\"i\"]\n",
    "        if item[\"m\"][\"tp\"]==\"article\"]\n",
    "    return articles"
   ]
  },
  {
   "cell_type": "code",
   "execution_count": 9,
   "metadata": {},
   "outputs": [],
   "source": [
    "def serialize_article(article_text, article_metadata, out_dir=None, s3_bucket_id=None):\n",
    "    pass"
   ]
  },
  {
   "cell_type": "code",
   "execution_count": 10,
   "metadata": {},
   "outputs": [
    {
     "name": "stdout",
     "output_type": "stream",
     "text": [
      "CPU times: user 144 ms, sys: 88.2 ms, total: 233 ms\n",
      "Wall time: 3.77 s\n"
     ]
    }
   ],
   "source": [
    "%%time\n",
    "issues = s3_detect_issues(bucket, prefix=\"IMP/1990\")"
   ]
  },
  {
   "cell_type": "code",
   "execution_count": 11,
   "metadata": {},
   "outputs": [
    {
     "data": {
      "text/plain": [
       "23"
      ]
     },
     "execution_count": 11,
     "metadata": {},
     "output_type": "execute_result"
    }
   ],
   "source": [
    "len(issues)"
   ]
  },
  {
   "cell_type": "code",
   "execution_count": 12,
   "metadata": {},
   "outputs": [
    {
     "data": {
      "text/plain": [
       "IssueDirectory(journal='IMP', date=datetime.date(1990, 2, 7), edition='a', path='IMP/1990/02/07/a/IMP-1990-02-07-a-issue.json')"
      ]
     },
     "execution_count": 12,
     "metadata": {},
     "output_type": "execute_result"
    }
   ],
   "source": [
    "issues[0]"
   ]
  },
  {
   "cell_type": "code",
   "execution_count": 13,
   "metadata": {},
   "outputs": [],
   "source": [
    "articles_by_issue = starmap(\n",
    "        s3_get_articles,\n",
    "        [\n",
    "            (issue, bucket)\n",
    "            for issue in issues\n",
    "        ]\n",
    ")"
   ]
  },
  {
   "cell_type": "code",
   "execution_count": 14,
   "metadata": {},
   "outputs": [],
   "source": [
    "all_articles = reduce(lambda x, y: x + y, articles_by_issue)"
   ]
  },
  {
   "cell_type": "code",
   "execution_count": 15,
   "metadata": {},
   "outputs": [
    {
     "data": {
      "text/plain": [
       "3867"
      ]
     },
     "execution_count": 15,
     "metadata": {},
     "output_type": "execute_result"
    }
   ],
   "source": [
    "len(all_articles)"
   ]
  },
  {
   "cell_type": "code",
   "execution_count": 28,
   "metadata": {},
   "outputs": [],
   "source": [
    "# all_articles[:100]"
   ]
  },
  {
   "cell_type": "code",
   "execution_count": 34,
   "metadata": {},
   "outputs": [],
   "source": [
    "rebuilt_articles = [\n",
    "    rebuild_article(article, bucket_id='canonical-json')\n",
    "    for article in all_articles\n",
    "]"
   ]
  },
  {
   "cell_type": "code",
   "execution_count": null,
   "metadata": {},
   "outputs": [],
   "source": [
    "serialization_result = [\n",
    "    serialize_article(metadata, fulltext, out_dir=\"\")\n",
    "    for metadata, fulltext in zip(all_articles, rebuilt_articles)\n",
    "]"
   ]
  },
  {
   "cell_type": "markdown",
   "metadata": {},
   "source": [
    "## DEV"
   ]
  },
  {
   "cell_type": "code",
   "execution_count": 16,
   "metadata": {},
   "outputs": [],
   "source": [
    "from impresso_commons.path import get_issueshortpath"
   ]
  },
  {
   "cell_type": "code",
   "execution_count": 17,
   "metadata": {},
   "outputs": [],
   "source": [
    "def s3_get_pages(issue_id, page_names, bucket):\n",
    "    return {\n",
    "        key.name.split('/')[-1]: json.loads(content.decode('utf-8'))\n",
    "        for key, content in s3_iter_bucket(bucket, prefix=issue_id.replace('-', '/'))\n",
    "        if key.name.split('/')[-1] in list(page_names.values())\n",
    "    }"
   ]
  },
  {
   "cell_type": "code",
   "execution_count": 100,
   "metadata": {},
   "outputs": [],
   "source": [
    "def rebuild_text(tokens, string=None):\n",
    "    \"\"\"    \n",
    "    TODO: handle better the space insertion\n",
    "    \"\"\"\n",
    "    \n",
    "    def get_space(token):\n",
    "        return \" \"\n",
    "    \n",
    "    regions = []\n",
    "    \n",
    "    if string is None:\n",
    "        string = \"\"\n",
    "    \n",
    "    for token in tokens:\n",
    "        region = {}\n",
    "        region[\"coords\"] = token[\"c\"]\n",
    "        region[\"start\"] = len(string)\n",
    "        region[\"length\"] = len(token[\"tx\"])\n",
    "        string += \"{} \".format(token[\"tx\"])\n",
    "        regions.append(region)\n",
    "        \n",
    "    return (string, regions)\n",
    "        \n",
    "    \n",
    "    "
   ]
  },
  {
   "cell_type": "code",
   "execution_count": 99,
   "metadata": {},
   "outputs": [],
   "source": [
    "# TODO: implement\n",
    "def rebuild_article(article_metadata, bucket_id):\n",
    "    \"\"\"\n",
    "    Logic:\n",
    "    - for each page in ['m']['pp'], fetch the JSON pages from S3\n",
    "    - for each page, filter the regions where occurs the article ID\n",
    "    - pass the list of regions to `rebuild_text()`\n",
    "    \n",
    "    Returns a single string with the article's fulltext.\n",
    "    \"\"\"\n",
    "    article_id = article_metadata[\"m\"][\"id\"]\n",
    "    issue_id = \"-\".join(article_id.split('-')[:-1])\n",
    "    page_file_names = {\n",
    "        p: \"{}-p{}.json\".format(issue_id, str(p).zfill(4))\n",
    "        for p in article_metadata[\"m\"][\"pp\"]\n",
    "    }\n",
    "    pages = s3_get_pages(issue_id, page_file_names, bucket)\n",
    "    \n",
    "    fulltext = \"\"\n",
    "    article = {\n",
    "        \"id\": article_id,\n",
    "        # \"series\": None,\n",
    "        \"pages\": [],\n",
    "        \"title\": article_metadata[\"m\"][\"t\"],\n",
    "        \"lang\": article_metadata[\"m\"][\"l\"],\n",
    "        \"journal\": article_metadata[\"m\"][\"pub\"],\n",
    "    }\n",
    "    \n",
    "    for page_no in page_file_names:\n",
    "        page = pages[page_file_names[page_no]]\n",
    "        regions = [\n",
    "            region\n",
    "            for region in page[\"r\"]\n",
    "            if region[\"pOf\"] == article_id\n",
    "        ]\n",
    "        tokens = [\n",
    "            token\n",
    "            for region in regions\n",
    "            for para in region[\"p\"]\n",
    "            for line in para[\"l\"]\n",
    "            for token in line[\"t\"]\n",
    "            # TODO: handle better hyphenated words\n",
    "        ]\n",
    "        \n",
    "        if fulltext == \"\":\n",
    "            fulltext, regions = rebuild_text(tokens)\n",
    "        else:\n",
    "            fulltext, regions = rebuild_text(tokens, fulltext)\n",
    "            \n",
    "        page_doc = {\n",
    "            \"id\": page_file_names[page_no],\n",
    "            \"n\": page_no,\n",
    "            \"regions\": regions\n",
    "        }\n",
    "        article[\"pages\"].append(page_doc)\n",
    "    \n",
    "    article[\"text\"] = fulltext\n",
    "        \n",
    "    return article"
   ]
  },
  {
   "cell_type": "code",
   "execution_count": 87,
   "metadata": {},
   "outputs": [
    {
     "data": {
      "text/plain": [
       "{'l': {'id': 'Ar00109', 'source': '113-IMP-1990-02-07-0001.pdf'},\n",
       " 'm': {'id': 'IMP-1990-02-07-a-i0001',\n",
       "  'l': 'french',\n",
       "  'pp': [1],\n",
       "  'pub': 'IMP',\n",
       "  't': 'Untitled Article',\n",
       "  'tp': 'article'}}"
      ]
     },
     "execution_count": 87,
     "metadata": {},
     "output_type": "execute_result"
    }
   ],
   "source": [
    "all_articles[0]"
   ]
  },
  {
   "cell_type": "code",
   "execution_count": 94,
   "metadata": {},
   "outputs": [],
   "source": [
    "article = all_articles[0]\n",
    "rebuilt_article = rebuild_article(article, bucket)"
   ]
  },
  {
   "cell_type": "code",
   "execution_count": 98,
   "metadata": {},
   "outputs": [
    {
     "data": {
      "text/plain": [
       "\"Aujourd'hui : en partie ensoleu- Demain : encore en partie enso- lé avec des bancs de brouillard leillé et doux . Le soir quelques le matin sur le Plateau et des précipitations à partir de passages nuageux sur l ' ouest , l ' ouest . Lac des Brenels ' _vVV /> _Bj _^ _^ il // Lever Coucher _™ _SJL _, MEJ /| H 7 h 49 17 h 43 428 . 97 m | 10 ° ~ 1 ° | 2000 m _[ r _^ 15 h 02 6 h 36 Fête à souhaiter mercredi 7 février : Hélène \""
      ]
     },
     "execution_count": 98,
     "metadata": {},
     "output_type": "execute_result"
    }
   ],
   "source": [
    "rebuilt_article[\"text\"]"
   ]
  },
  {
   "cell_type": "code",
   "execution_count": 97,
   "metadata": {},
   "outputs": [
    {
     "data": {
      "text/plain": [
       "'quelques'"
      ]
     },
     "execution_count": 97,
     "metadata": {},
     "output_type": "execute_result"
    }
   ],
   "source": [
    "rebuilt_article[\"text\"][122:130]"
   ]
  },
  {
   "cell_type": "code",
   "execution_count": 81,
   "metadata": {},
   "outputs": [
    {
     "data": {
      "text/plain": [
       "[{'id': 'IMP-1990-02-07-a-p0001.json',\n",
       "  'n': 1,\n",
       "  'regions': [{'coords': [57, 470, 138, 494], 'length': 11, 'start': 0},\n",
       "   {'coords': [142, 470, 149, 494], 'length': 1, 'start': 12},\n",
       "   {'coords': [150, 470, 166, 494], 'length': 2, 'start': 14},\n",
       "   {'coords': [171, 470, 212, 494], 'length': 6, 'start': 17},\n",
       "   {'coords': [217, 470, 276, 494], 'length': 8, 'start': 24},\n",
       "   {'coords': [292, 470, 348, 494], 'length': 6, 'start': 33},\n",
       "   {'coords': [349, 470, 357, 494], 'length': 1, 'start': 40},\n",
       "   {'coords': [357, 470, 404, 494], 'length': 6, 'start': 42},\n",
       "   {'coords': [408, 470, 425, 494], 'length': 2, 'start': 49},\n",
       "   {'coords': [428, 470, 470, 494], 'length': 6, 'start': 52},\n",
       "   {'coords': [474, 470, 512, 494], 'length': 5, 'start': 59},\n",
       "   {'coords': [57, 488, 69, 512], 'length': 2, 'start': 65},\n",
       "   {'coords': [73, 488, 105, 512], 'length': 4, 'start': 68},\n",
       "   {'coords': [110, 488, 133, 512], 'length': 3, 'start': 73},\n",
       "   {'coords': [137, 488, 178, 512], 'length': 5, 'start': 77},\n",
       "   {'coords': [182, 488, 199, 512], 'length': 2, 'start': 83},\n",
       "   {'coords': [204, 488, 275, 512], 'length': 10, 'start': 86},\n",
       "   {'coords': [292, 488, 325, 512], 'length': 6, 'start': 97},\n",
       "   {'coords': [329, 488, 343, 512], 'length': 2, 'start': 104},\n",
       "   {'coords': [348, 488, 384, 512], 'length': 4, 'start': 107},\n",
       "   {'coords': [384, 488, 389, 512], 'length': 1, 'start': 112},\n",
       "   {'coords': [394, 488, 413, 512], 'length': 2, 'start': 114},\n",
       "   {'coords': [417, 488, 444, 512], 'length': 4, 'start': 117},\n",
       "   {'coords': [449, 488, 511, 512], 'length': 8, 'start': 122},\n",
       "   {'coords': [57, 505, 69, 529], 'length': 2, 'start': 131},\n",
       "   {'coords': [76, 505, 117, 529], 'length': 5, 'start': 134},\n",
       "   {'coords': [125, 505, 146, 529], 'length': 3, 'start': 140},\n",
       "   {'coords': [154, 505, 165, 529], 'length': 2, 'start': 144},\n",
       "   {'coords': [172, 505, 225, 529], 'length': 7, 'start': 147},\n",
       "   {'coords': [233, 505, 245, 529], 'length': 2, 'start': 155},\n",
       "   {'coords': [253, 505, 277, 529], 'length': 3, 'start': 158},\n",
       "   {'coords': [292, 505, 391, 529], 'length': 14, 'start': 162},\n",
       "   {'coords': [409, 505, 418, 529], 'length': 1, 'start': 177},\n",
       "   {'coords': [436, 505, 476, 529], 'length': 6, 'start': 179},\n",
       "   {'coords': [495, 505, 512, 529], 'length': 2, 'start': 186},\n",
       "   {'coords': [57, 523, 119, 546], 'length': 8, 'start': 189},\n",
       "   {'coords': [124, 523, 184, 546], 'length': 7, 'start': 198},\n",
       "   {'coords': [190, 523, 213, 546], 'length': 3, 'start': 206},\n",
       "   {'coords': [218, 523, 224, 546], 'length': 1, 'start': 210},\n",
       "   {'coords': [223, 523, 227, 546], 'length': 1, 'start': 212},\n",
       "   {'coords': [227, 522, 265, 546], 'length': 5, 'start': 214},\n",
       "   {'coords': [265, 522, 269, 546], 'length': 1, 'start': 220},\n",
       "   {'coords': [292, 522, 298, 546], 'length': 1, 'start': 222},\n",
       "   {'coords': [297, 522, 301, 546], 'length': 1, 'start': 224},\n",
       "   {'coords': [302, 523, 339, 546], 'length': 5, 'start': 226},\n",
       "   {'coords': [339, 523, 344, 546], 'length': 1, 'start': 232},\n",
       "   {'coords': [67, 554, 85, 572], 'length': 3, 'start': 234},\n",
       "   {'coords': [88, 554, 105, 572], 'length': 3, 'start': 238},\n",
       "   {'coords': [110, 554, 148, 572], 'length': 7, 'start': 242},\n",
       "   {'coords': [156, 554, 158, 571], 'length': 1, 'start': 250},\n",
       "   {'coords': [160, 554, 206, 571], 'length': 4, 'start': 252},\n",
       "   {'coords': [205, 554, 226, 571], 'length': 2, 'start': 257},\n",
       "   {'coords': [226, 554, 247, 571], 'length': 3, 'start': 260},\n",
       "   {'coords': [249, 554, 264, 571], 'length': 2, 'start': 264},\n",
       "   {'coords': [351, 554, 366, 571], 'length': 2, 'start': 267},\n",
       "   {'coords': [364, 554, 374, 571], 'length': 2, 'start': 270},\n",
       "   {'coords': [370, 554, 381, 571], 'length': 2, 'start': 273},\n",
       "   {'coords': [400, 556, 435, 576], 'length': 5, 'start': 276},\n",
       "   {'coords': [450, 558, 507, 575], 'length': 7, 'start': 282},\n",
       "   {'coords': [73, 568, 106, 606], 'length': 2, 'start': 290},\n",
       "   {'coords': [100, 568, 148, 606], 'length': 4, 'start': 293},\n",
       "   {'coords': [146, 568, 156, 606], 'length': 2, 'start': 298},\n",
       "   {'coords': [159, 568, 263, 607], 'length': 3, 'start': 301},\n",
       "   {'coords': [294, 563, 340, 602], 'length': 2, 'start': 305},\n",
       "   {'coords': [351, 577, 400, 616], 'length': 1, 'start': 308},\n",
       "   {'coords': [401, 564, 410, 602], 'length': 1, 'start': 310},\n",
       "   {'coords': [414, 564, 423, 602], 'length': 1, 'start': 312},\n",
       "   {'coords': [426, 564, 443, 602], 'length': 2, 'start': 314},\n",
       "   {'coords': [454, 564, 472, 602], 'length': 2, 'start': 317},\n",
       "   {'coords': [475, 564, 484, 602], 'length': 1, 'start': 320},\n",
       "   {'coords': [488, 564, 504, 602], 'length': 2, 'start': 322},\n",
       "   {'coords': [72, 599, 101, 621], 'length': 3, 'start': 325},\n",
       "   {'coords': [100, 599, 105, 621], 'length': 1, 'start': 329},\n",
       "   {'coords': [104, 599, 123, 621], 'length': 2, 'start': 331},\n",
       "   {'coords': [127, 599, 142, 621], 'length': 1, 'start': 334},\n",
       "   {'coords': [156, 599, 164, 621], 'length': 1, 'start': 336},\n",
       "   {'coords': [173, 599, 193, 621], 'length': 2, 'start': 338},\n",
       "   {'coords': [191, 599, 198, 621], 'length': 1, 'start': 341},\n",
       "   {'coords': [221, 588, 238, 610], 'length': 1, 'start': 343},\n",
       "   {'coords': [237, 599, 246, 621], 'length': 1, 'start': 345},\n",
       "   {'coords': [245, 599, 252, 621], 'length': 1, 'start': 347},\n",
       "   {'coords': [267, 599, 274, 621], 'length': 1, 'start': 349},\n",
       "   {'coords': [279, 599, 315, 621], 'length': 4, 'start': 351},\n",
       "   {'coords': [320, 599, 335, 621], 'length': 1, 'start': 356},\n",
       "   {'coords': [346, 601, 358, 623], 'length': 2, 'start': 358},\n",
       "   {'coords': [357, 601, 372, 623], 'length': 1, 'start': 361},\n",
       "   {'coords': [369, 601, 389, 623], 'length': 2, 'start': 363},\n",
       "   {'coords': [393, 590, 410, 611], 'length': 2, 'start': 366},\n",
       "   {'coords': [413, 599, 423, 621], 'length': 1, 'start': 369},\n",
       "   {'coords': [426, 590, 443, 611], 'length': 2, 'start': 371},\n",
       "   {'coords': [462, 599, 470, 621], 'length': 1, 'start': 374},\n",
       "   {'coords': [475, 599, 484, 621], 'length': 1, 'start': 376},\n",
       "   {'coords': [488, 599, 504, 621], 'length': 2, 'start': 378},\n",
       "   {'coords': [133, 620, 162, 641], 'length': 4, 'start': 381},\n",
       "   {'coords': [167, 620, 175, 641], 'length': 1, 'start': 386},\n",
       "   {'coords': [179, 620, 245, 641], 'length': 9, 'start': 388},\n",
       "   {'coords': [250, 620, 312, 641], 'length': 8, 'start': 398},\n",
       "   {'coords': [317, 620, 326, 641], 'length': 1, 'start': 407},\n",
       "   {'coords': [330, 620, 377, 641], 'length': 7, 'start': 409},\n",
       "   {'coords': [377, 620, 382, 641], 'length': 1, 'start': 417},\n",
       "   {'coords': [387, 620, 435, 641], 'length': 6, 'start': 419}]}]"
      ]
     },
     "execution_count": 81,
     "metadata": {},
     "output_type": "execute_result"
    }
   ],
   "source": [
    "rebuilt_article[\"pages\"]"
   ]
  },
  {
   "cell_type": "code",
   "execution_count": null,
   "metadata": {},
   "outputs": [],
   "source": []
  }
 ],
 "metadata": {
  "kernelspec": {
   "display_name": "Python 3",
   "language": "python",
   "name": "python3"
  },
  "language_info": {
   "codemirror_mode": {
    "name": "ipython",
    "version": 3
   },
   "file_extension": ".py",
   "mimetype": "text/x-python",
   "name": "python",
   "nbconvert_exporter": "python",
   "pygments_lexer": "ipython3",
   "version": "3.5.0"
  },
  "toc": {
   "colors": {
    "hover_highlight": "#DAA520",
    "navigate_num": "#000000",
    "navigate_text": "#333333",
    "running_highlight": "#FF0000",
    "selected_highlight": "#FFD700",
    "sidebar_border": "#EEEEEE",
    "wrapper_background": "#FFFFFF"
   },
   "moveMenuLeft": true,
   "nav_menu": {
    "height": "12px",
    "width": "252px"
   },
   "navigate_menu": true,
   "number_sections": true,
   "sideBar": true,
   "threshold": 4,
   "toc_cell": false,
   "toc_section_display": "block",
   "toc_window_display": false,
   "widenNotebook": false
  }
 },
 "nbformat": 4,
 "nbformat_minor": 2
}
